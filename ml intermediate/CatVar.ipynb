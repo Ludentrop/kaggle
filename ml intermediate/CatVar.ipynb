{
 "cells": [
  {
   "cell_type": "code",
   "execution_count": 74,
   "id": "5f68b375-69ab-46ed-b34c-a9c72bf00264",
   "metadata": {},
   "outputs": [],
   "source": [
    "from sklearn.ensemble import RandomForestRegressor\n",
    "from sklearn.preprocessing import OrdinalEncoder, OneHotEncoder\n",
    "from sklearn.model_selection import train_test_split\n",
    "from sklearn.metrics import mean_absolute_error\n",
    "import pandas as pd"
   ]
  },
  {
   "cell_type": "code",
   "execution_count": 75,
   "id": "08e19ef8-7b58-4dd3-93e4-0d81c3e0b6d1",
   "metadata": {},
   "outputs": [],
   "source": [
    "data = pd.read_csv('~/JProjects/kaggle cources/data/melb_data.csv')"
   ]
  },
  {
   "cell_type": "code",
   "execution_count": 76,
   "id": "f3c9e2fc-a1e0-4ff5-bb8a-5d1a47539857",
   "metadata": {},
   "outputs": [],
   "source": [
    "y = data.Price\n",
    "X = data.drop('Price', axis=1)\n",
    "\n",
    "X_train_full, X_val_full, y_train, y_val = train_test_split(X, y, train_size=.8, test_size=.2, random_state=0)"
   ]
  },
  {
   "cell_type": "code",
   "execution_count": 77,
   "id": "c07bba3f-c70e-4e50-8e7c-aad72324fde7",
   "metadata": {},
   "outputs": [],
   "source": [
    "col_w_missing = [col for col in X_train_full.columns\n",
    "                 if X_train_full[col].isnull().any()]\n",
    "\n",
    "X_train_full.drop(col_w_missing, axis=1, inplace=True)\n",
    "X_val_full.drop(col_w_missing, axis=1, inplace=True)"
   ]
  },
  {
   "cell_type": "code",
   "execution_count": 78,
   "id": "bfe48ea0-febb-4f9e-8a24-1fd6789fdbc3",
   "metadata": {},
   "outputs": [],
   "source": [
    "# \"Cardinality\" means the number of unique values in a column\n",
    "# Select categorical columns with relatively low cardinality (convenient but arbitrary)\n",
    "low_cardinality_cols = [cname for cname in X_train_full.columns\n",
    "                        if X_train_full[cname].nunique() < 10 and X_train_full[cname].dtype == 'object']"
   ]
  },
  {
   "cell_type": "code",
   "execution_count": 79,
   "id": "431ddaa3-0aa8-4025-bc39-117d52311232",
   "metadata": {},
   "outputs": [],
   "source": [
    "numerical_cols = [cname for cname in X_train_full.columns\n",
    "                  if X_train_full[cname].dtype in ['int64', 'float64']]"
   ]
  },
  {
   "cell_type": "code",
   "execution_count": 80,
   "id": "5c2609c5-b1a9-4dc9-9c2e-82972b805282",
   "metadata": {},
   "outputs": [],
   "source": [
    "# Keep selected columns only\n",
    "cols = low_cardinality_cols + numerical_cols\n",
    "X_train = X_train_full[cols].copy()\n",
    "X_val = X_val_full[cols].copy()"
   ]
  },
  {
   "cell_type": "code",
   "execution_count": 81,
   "id": "edec47c3-968c-4cdb-bb82-39b3c65d2bee",
   "metadata": {},
   "outputs": [
    {
     "data": {
      "text/html": [
       "<div>\n",
       "<style scoped>\n",
       "    .dataframe tbody tr th:only-of-type {\n",
       "        vertical-align: middle;\n",
       "    }\n",
       "\n",
       "    .dataframe tbody tr th {\n",
       "        vertical-align: top;\n",
       "    }\n",
       "\n",
       "    .dataframe thead th {\n",
       "        text-align: right;\n",
       "    }\n",
       "</style>\n",
       "<table border=\"1\" class=\"dataframe\">\n",
       "  <thead>\n",
       "    <tr style=\"text-align: right;\">\n",
       "      <th></th>\n",
       "      <th>Type</th>\n",
       "      <th>Method</th>\n",
       "      <th>Regionname</th>\n",
       "      <th>Rooms</th>\n",
       "      <th>Distance</th>\n",
       "      <th>Postcode</th>\n",
       "      <th>Bedroom2</th>\n",
       "      <th>Bathroom</th>\n",
       "      <th>Landsize</th>\n",
       "      <th>Lattitude</th>\n",
       "      <th>Longtitude</th>\n",
       "      <th>Propertycount</th>\n",
       "    </tr>\n",
       "  </thead>\n",
       "  <tbody>\n",
       "    <tr>\n",
       "      <th>12167</th>\n",
       "      <td>u</td>\n",
       "      <td>S</td>\n",
       "      <td>Southern Metropolitan</td>\n",
       "      <td>1</td>\n",
       "      <td>5.0</td>\n",
       "      <td>3182.0</td>\n",
       "      <td>1.0</td>\n",
       "      <td>1.0</td>\n",
       "      <td>0.0</td>\n",
       "      <td>-37.85984</td>\n",
       "      <td>144.9867</td>\n",
       "      <td>13240.0</td>\n",
       "    </tr>\n",
       "    <tr>\n",
       "      <th>6524</th>\n",
       "      <td>h</td>\n",
       "      <td>SA</td>\n",
       "      <td>Western Metropolitan</td>\n",
       "      <td>2</td>\n",
       "      <td>8.0</td>\n",
       "      <td>3016.0</td>\n",
       "      <td>2.0</td>\n",
       "      <td>2.0</td>\n",
       "      <td>193.0</td>\n",
       "      <td>-37.85800</td>\n",
       "      <td>144.9005</td>\n",
       "      <td>6380.0</td>\n",
       "    </tr>\n",
       "    <tr>\n",
       "      <th>8413</th>\n",
       "      <td>h</td>\n",
       "      <td>S</td>\n",
       "      <td>Western Metropolitan</td>\n",
       "      <td>3</td>\n",
       "      <td>12.6</td>\n",
       "      <td>3020.0</td>\n",
       "      <td>3.0</td>\n",
       "      <td>1.0</td>\n",
       "      <td>555.0</td>\n",
       "      <td>-37.79880</td>\n",
       "      <td>144.8220</td>\n",
       "      <td>3755.0</td>\n",
       "    </tr>\n",
       "    <tr>\n",
       "      <th>2919</th>\n",
       "      <td>u</td>\n",
       "      <td>SP</td>\n",
       "      <td>Northern Metropolitan</td>\n",
       "      <td>3</td>\n",
       "      <td>13.0</td>\n",
       "      <td>3046.0</td>\n",
       "      <td>3.0</td>\n",
       "      <td>1.0</td>\n",
       "      <td>265.0</td>\n",
       "      <td>-37.70830</td>\n",
       "      <td>144.9158</td>\n",
       "      <td>8870.0</td>\n",
       "    </tr>\n",
       "    <tr>\n",
       "      <th>6043</th>\n",
       "      <td>h</td>\n",
       "      <td>S</td>\n",
       "      <td>Western Metropolitan</td>\n",
       "      <td>3</td>\n",
       "      <td>13.3</td>\n",
       "      <td>3020.0</td>\n",
       "      <td>3.0</td>\n",
       "      <td>1.0</td>\n",
       "      <td>673.0</td>\n",
       "      <td>-37.76230</td>\n",
       "      <td>144.8272</td>\n",
       "      <td>4217.0</td>\n",
       "    </tr>\n",
       "  </tbody>\n",
       "</table>\n",
       "</div>"
      ],
      "text/plain": [
       "      Type Method             Regionname  Rooms  Distance  Postcode  Bedroom2  \\\n",
       "12167    u      S  Southern Metropolitan      1       5.0    3182.0       1.0   \n",
       "6524     h     SA   Western Metropolitan      2       8.0    3016.0       2.0   \n",
       "8413     h      S   Western Metropolitan      3      12.6    3020.0       3.0   \n",
       "2919     u     SP  Northern Metropolitan      3      13.0    3046.0       3.0   \n",
       "6043     h      S   Western Metropolitan      3      13.3    3020.0       3.0   \n",
       "\n",
       "       Bathroom  Landsize  Lattitude  Longtitude  Propertycount  \n",
       "12167       1.0       0.0  -37.85984    144.9867        13240.0  \n",
       "6524        2.0     193.0  -37.85800    144.9005         6380.0  \n",
       "8413        1.0     555.0  -37.79880    144.8220         3755.0  \n",
       "2919        1.0     265.0  -37.70830    144.9158         8870.0  \n",
       "6043        1.0     673.0  -37.76230    144.8272         4217.0  "
      ]
     },
     "execution_count": 81,
     "metadata": {},
     "output_type": "execute_result"
    }
   ],
   "source": [
    "X_train.head()"
   ]
  },
  {
   "cell_type": "code",
   "execution_count": 82,
   "id": "98c7b958-aae8-40c3-ab21-02c471aeb942",
   "metadata": {},
   "outputs": [],
   "source": [
    "# Get list of categorical variables\n",
    "s = (X_train.dtypes == 'object')\n",
    "object_cols = (s[s].index)"
   ]
  },
  {
   "cell_type": "code",
   "execution_count": 83,
   "id": "5b4bf3b3-fabe-4e91-b787-2560a469802a",
   "metadata": {},
   "outputs": [
    {
     "name": "stdout",
     "output_type": "stream",
     "text": [
      "Cat vars:\n",
      "Index(['Type', 'Method', 'Regionname'], dtype='object')\n"
     ]
    }
   ],
   "source": [
    "print('Cat vars:')\n",
    "print(object_cols)"
   ]
  },
  {
   "cell_type": "code",
   "execution_count": 84,
   "id": "d60e1ef9-9dfc-41fe-b828-d23f8dcc0bb7",
   "metadata": {},
   "outputs": [],
   "source": [
    "def score_dataset(X_train, X_val, y_train, y_val):\n",
    "    model = RandomForestRegressor(n_estimators=100, random_state=0)\n",
    "    model.fit(X_train, y_train)\n",
    "    preds = model.predict(X_val)\n",
    "    return mean_absolute_error(y_val, preds)"
   ]
  },
  {
   "cell_type": "markdown",
   "id": "311088bd-8c26-4f72-8fd9-89b58012c60f",
   "metadata": {},
   "source": [
    "Three approaches for handling this type of data:"
   ]
  },
  {
   "cell_type": "markdown",
   "id": "23a587ca-aeef-4cb1-979c-6049f0cc8813",
   "metadata": {},
   "source": [
    "## Drop Categorical Variables\n",
    "The easiest approach to dealing with categorical variables is to simply remove them from the dataset. This approach will only work well if the columns did not contain useful information."
   ]
  },
  {
   "cell_type": "code",
   "execution_count": 85,
   "id": "a2e2fb53-4b22-46f7-b508-6557bf975ed1",
   "metadata": {},
   "outputs": [
    {
     "name": "stdout",
     "output_type": "stream",
     "text": [
      "MAE from Approach 1 (Drop categorical variables):\n",
      "175703.48185157913\n"
     ]
    }
   ],
   "source": [
    "droped_X_train = X_train.select_dtypes(exclude='object')\n",
    "droped_X_val = X_val.select_dtypes(exclude='object')\n",
    "\n",
    "print(\"MAE from Approach 1 (Drop categorical variables):\")\n",
    "print(score_dataset(droped_X_train, droped_X_val, y_train, y_val))"
   ]
  },
  {
   "cell_type": "markdown",
   "id": "f38f27c5-9119-44a6-8e34-b6db1f661035",
   "metadata": {},
   "source": [
    "## Ordinal Encoding\n",
    "Ordinal encoding assigns each unique value to a different integer.\r\n"
   ]
  },
  {
   "cell_type": "code",
   "execution_count": 86,
   "id": "6fe43a9e-43e9-49f0-81b4-b084c6592458",
   "metadata": {},
   "outputs": [
    {
     "name": "stdout",
     "output_type": "stream",
     "text": [
      "MAE from Approach 2 (Ordinal Encoding):\n",
      "165936.40548390493\n",
      "CPU times: total: 38.3 s\n",
      "Wall time: 46.2 s\n"
     ]
    }
   ],
   "source": [
    "%%time\n",
    "\n",
    "label_X_train = X_train.copy()\n",
    "label_X_val = X_val.copy()\n",
    "\n",
    "oe = OrdinalEncoder()\n",
    "\n",
    "label_X_train[object_cols] = oe.fit_transform(label_X_train[object_cols])\n",
    "label_X_val[object_cols] = oe.transform(label_X_val[object_cols])\n",
    "\n",
    "print(\"MAE from Approach 2 (Ordinal Encoding):\") \n",
    "print(score_dataset(label_X_train, label_X_val, y_train, y_val))"
   ]
  },
  {
   "cell_type": "markdown",
   "id": "af462fdc-254f-4d41-9ba3-89f7eea8f526",
   "metadata": {},
   "source": [
    "## One-Hot Encoding\n",
    "One-hot encoding creates new columns indicating the presence (or absence) of each possible value in the original data. To understand this, we'll work through an example.\n",
    "\n",
    "One-hot encoding generally does not perform well if the categorical variable takes on a large number of values (i.e., you generally won't use it for variables taking more than ***15*** different values).\n",
    "\n",
    "We use the OneHotEncoder class from scikit-learn to get one-hot encodings. There are a number of parameters that can be used to customize its behavior.\n",
    "- We set `handle_unknown='ignore'` to avoid errors when the validation data contains classes that aren't represented in the training data,\n",
    "- and setting `sparse=False` ensures that the encoded columns are returned as a numpy array (instead of a sparse matrix)."
   ]
  },
  {
   "cell_type": "code",
   "execution_count": 87,
   "id": "77ab614a-831d-4498-bb8d-f70c39405285",
   "metadata": {},
   "outputs": [
    {
     "name": "stdout",
     "output_type": "stream",
     "text": [
      "MAE from Approach 3 (One-Hot Encoding):\n",
      "165699.58889227855\n",
      "CPU times: total: 39.4 s\n",
      "Wall time: 39.8 s\n"
     ]
    }
   ],
   "source": [
    "%%time\n",
    "\n",
    "OHE = OneHotEncoder(handle_unknown='ignore', sparse_output=False)\n",
    "OH_cols_X_train = pd.DataFrame(OHE.fit_transform(X_train[object_cols]))\n",
    "OH_cols_X_val = pd.DataFrame(OHE.transform(X_val[object_cols]))\n",
    "\n",
    "# One-hot encoding removed index; put it back\n",
    "OH_cols_X_train.index = X_train.index\n",
    "OH_cols_X_val.index = X_val.index\n",
    "\n",
    "num_X_train = X_train.drop(object_cols, axis=1)\n",
    "num_X_val = X_val.drop(object_cols, axis=1)\n",
    "\n",
    "# Add one-hot encoded columns to numerical features\n",
    "OH_X_train = pd.concat([OH_cols_X_train, num_X_train], axis=1)\n",
    "OH_X_val = pd.concat([OH_cols_X_val, num_X_val], axis=1)\n",
    "\n",
    "# Ensure all columns have string type\n",
    "OH_X_train.columns = OH_X_train.columns.astype(str)\n",
    "OH_X_val.columns = OH_X_val.columns.astype(str)\n",
    "\n",
    "\n",
    "print(\"MAE from Approach 3 (One-Hot Encoding):\") \n",
    "print(score_dataset(OH_X_train, OH_X_val, y_train, y_val))"
   ]
  },
  {
   "cell_type": "markdown",
   "id": "8ee8a913-9124-4a80-943c-d363d7dff68d",
   "metadata": {},
   "source": [
    "In contrast to ordinal encoding, one-hot encoding does not assume an ordering of the categories.\n",
    "\n",
    "Not all categorical variables have a clear ordering in the values, but we refer to those that do as ***ordinal variables***.\n",
    "\n",
    "We refer to categorical variables without an intrinsic ranking as ***nominal variables***."
   ]
  },
  {
   "cell_type": "code",
   "execution_count": null,
   "id": "309f828c-69c0-4234-81c1-67ee59e74b7d",
   "metadata": {},
   "outputs": [],
   "source": []
  }
 ],
 "metadata": {
  "kernelspec": {
   "display_name": "Python 3 (ipykernel)",
   "language": "python",
   "name": "python3"
  },
  "language_info": {
   "codemirror_mode": {
    "name": "ipython",
    "version": 3
   },
   "file_extension": ".py",
   "mimetype": "text/x-python",
   "name": "python",
   "nbconvert_exporter": "python",
   "pygments_lexer": "ipython3",
   "version": "3.11.4"
  }
 },
 "nbformat": 4,
 "nbformat_minor": 5
}
