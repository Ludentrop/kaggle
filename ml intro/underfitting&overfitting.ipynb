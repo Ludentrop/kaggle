{
 "cells": [
  {
   "cell_type": "code",
   "execution_count": 7,
   "id": "ae538ef6-4e80-49d7-ada9-ac20e51d9603",
   "metadata": {},
   "outputs": [],
   "source": [
    "import pandas as pd\n",
    "from sklearn.tree import DecisionTreeRegressor\n",
    "from sklearn.model_selection import train_test_split\n",
    "from sklearn.metrics import mean_absolute_error"
   ]
  },
  {
   "cell_type": "code",
   "execution_count": 8,
   "id": "ae01ac84-24fc-4dc2-92e5-be08e9e96efa",
   "metadata": {},
   "outputs": [],
   "source": [
    "data = pd.read_csv('~/JProjects/kaggle/data/melb_data.csv')\n",
    "\n",
    "data = data.dropna(axis=0)\n",
    "y = data.Price\n",
    "\n",
    "melb_features = ['Rooms', 'Bathroom', 'Landsize', 'BuildingArea', 'YearBuilt', 'Lattitude', 'Longtitude']\n",
    "X = data[melb_features]\n",
    "\n",
    "X_train, X_test, y_train, y_test = train_test_split(X, y, random_state=0)"
   ]
  },
  {
   "cell_type": "code",
   "execution_count": 9,
   "id": "0af85e7c-4c7b-4ec5-a353-60c08cd1a50a",
   "metadata": {},
   "outputs": [],
   "source": [
    "def get_mae(max_leaf_nodes, X_train, X_test, y_train, y_test):\n",
    "    model = DecisionTreeRegressor(max_leaf_nodes=max_leaf_nodes, random_state=0)\n",
    "    model.fit(X_train, y_train)\n",
    "    predicted = model.predict(X_test)\n",
    "    mae = mean_absolute_error(y_test, predicted)\n",
    "    return(mae)"
   ]
  },
  {
   "cell_type": "code",
   "execution_count": 10,
   "id": "2a555af8-cafa-45fe-89ac-8514bd84cc05",
   "metadata": {},
   "outputs": [
    {
     "name": "stdout",
     "output_type": "stream",
     "text": [
      "Max leaf node: 5\t\tMAE: 347380\n",
      "Max leaf node: 50\t\tMAE: 258171\n",
      "Max leaf node: 500\t\tMAE: 243496\n",
      "Max leaf node: 5000\t\tMAE: 255575\n"
     ]
    }
   ],
   "source": [
    "for leaf in [5, 50, 500, 5000]:\n",
    "    maes = get_mae(leaf, X_train, X_test, y_train, y_test)\n",
    "    print(f'Max leaf node: {round(leaf)}\\t\\tMAE: {round(maes)}')"
   ]
  },
  {
   "cell_type": "markdown",
   "id": "ffdd81df-beb1-4ec4-8633-67c07260bdfe",
   "metadata": {},
   "source": [
    "Models can suffer from either:\n",
    "- **Overfitting:** capturing spurious patterns that won't recur in the future, leading to less accurate predictions, or  \n",
    "- **Underfitting:** failing to capture relevant patterns, again leading to less accurate predictions.\n",
    "\n",
    "We use validation data, which isn't used in model training, to measure a candidate model's accuracy. This lets us try many candidate models and keep the best one."
   ]
  },
  {
   "cell_type": "code",
   "execution_count": null,
   "id": "9e9936d5-fb26-4c9e-aeb2-31fbd10812d6",
   "metadata": {},
   "outputs": [],
   "source": []
  }
 ],
 "metadata": {
  "kernelspec": {
   "display_name": "Python 3 (ipykernel)",
   "language": "python",
   "name": "python3"
  },
  "language_info": {
   "codemirror_mode": {
    "name": "ipython",
    "version": 3
   },
   "file_extension": ".py",
   "mimetype": "text/x-python",
   "name": "python",
   "nbconvert_exporter": "python",
   "pygments_lexer": "ipython3",
   "version": "3.12.1"
  }
 },
 "nbformat": 4,
 "nbformat_minor": 5
}
